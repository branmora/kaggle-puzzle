{
 "cells": [
  {
   "cell_type": "markdown",
   "metadata": {},
   "source": [
    "# Understanding the problem"
   ]
  },
  {
   "cell_type": "markdown",
   "metadata": {},
   "source": [
    "## Load the data"
   ]
  },
  {
   "cell_type": "code",
   "execution_count": 1,
   "metadata": {},
   "outputs": [],
   "source": [
    "#pip install opendatasets --upgrade\n",
    "#import opendatasets as od\n",
    "#od.download('https://www.kaggle.com/competitions/santa-2023/data')\n",
    "\n",
    "#pip install sympy"
   ]
  },
  {
   "cell_type": "code",
   "execution_count": 1,
   "metadata": {},
   "outputs": [],
   "source": [
    "import numpy as np\n",
    "import pandas as pd\n",
    "from ast import literal_eval\n",
    "from pathlib import Path\n",
    "from pprint import pprint\n",
    "from sympy.combinatorics import Permutation"
   ]
  },
  {
   "cell_type": "code",
   "execution_count": 2,
   "metadata": {},
   "outputs": [],
   "source": [
    "data_dir = Path(\"santa-2023\")\n",
    "\n",
    "puzzle_info = pd.read_csv(data_dir / 'puzzle_info.csv', index_col='puzzle_type')\n",
    "# Parse allowed_moves\n",
    "puzzle_info['allowed_moves'] = puzzle_info['allowed_moves'].apply(literal_eval)\n",
    "\n",
    "puzzles = pd.read_csv(data_dir / 'puzzles.csv', index_col='id')\n",
    "# Parse color states\n",
    "puzzles = puzzles.assign(\n",
    "    initial_state=lambda df: df['initial_state'].str.split(';'),\n",
    "    solution_state=lambda df: df['solution_state'].str.split(';')\n",
    ")\n",
    "\n",
    "sample_submission = pd.read_csv(data_dir / 'sample_submission.csv', index_col='id')"
   ]
  },
  {
   "cell_type": "code",
   "execution_count": 4,
   "metadata": {},
   "outputs": [],
   "source": [
    "# Filter cube\n",
    "cube_index = puzzle_info.index.str.contains('cube')\n",
    "puzzle_info_cube = puzzle_info[cube_index]\n",
    "\n",
    "puzzles_cube = puzzles.loc[puzzles['puzzle_type'].str.contains('cube')]"
   ]
  },
  {
   "cell_type": "code",
   "execution_count": 7,
   "metadata": {},
   "outputs": [],
   "source": [
    "def cube_state_to_faces(state):\n",
    "    \"\"\"Convert a state list to a dictionary of labeled faces.\"\"\"\n",
    "    n = int(np.sqrt(len(state) / 6))  # cube_n/n/n\n",
    "    n2 = n ** 2\n",
    "    labels = f\"d{n-1},f0,r0,f{n-1},r{n-1},d0\".split(',')\n",
    "    faces = {}\n",
    "    for i, l in enumerate(labels):\n",
    "        face = state[n2 * i : n2 * (i + 1)]\n",
    "        faces[l] = np.asarray(face).reshape(n, n).tolist()\n",
    "    return faces"
   ]
  },
  {
   "cell_type": "code",
   "execution_count": null,
   "metadata": {},
   "outputs": [],
   "source": []
  },
  {
   "cell_type": "code",
   "execution_count": 6,
   "metadata": {},
   "outputs": [
    {
     "data": {
      "text/html": [
       "<div>\n",
       "<style scoped>\n",
       "    .dataframe tbody tr th:only-of-type {\n",
       "        vertical-align: middle;\n",
       "    }\n",
       "\n",
       "    .dataframe tbody tr th {\n",
       "        vertical-align: top;\n",
       "    }\n",
       "\n",
       "    .dataframe thead th {\n",
       "        text-align: right;\n",
       "    }\n",
       "</style>\n",
       "<table border=\"1\" class=\"dataframe\">\n",
       "  <thead>\n",
       "    <tr style=\"text-align: right;\">\n",
       "      <th></th>\n",
       "      <th>puzzle_type</th>\n",
       "      <th>solution_state</th>\n",
       "      <th>initial_state</th>\n",
       "      <th>num_wildcards</th>\n",
       "    </tr>\n",
       "    <tr>\n",
       "      <th>id</th>\n",
       "      <th></th>\n",
       "      <th></th>\n",
       "      <th></th>\n",
       "      <th></th>\n",
       "    </tr>\n",
       "  </thead>\n",
       "  <tbody>\n",
       "    <tr>\n",
       "      <th>0</th>\n",
       "      <td>cube_2/2/2</td>\n",
       "      <td>[A, A, A, A, B, B, B, B, C, C, C, C, D, D, D, ...</td>\n",
       "      <td>[D, E, D, A, E, B, A, B, C, A, C, A, D, C, D, ...</td>\n",
       "      <td>0</td>\n",
       "    </tr>\n",
       "    <tr>\n",
       "      <th>1</th>\n",
       "      <td>cube_2/2/2</td>\n",
       "      <td>[A, A, A, A, B, B, B, B, C, C, C, C, D, D, D, ...</td>\n",
       "      <td>[D, E, C, B, B, E, F, A, F, D, B, F, F, E, B, ...</td>\n",
       "      <td>0</td>\n",
       "    </tr>\n",
       "    <tr>\n",
       "      <th>2</th>\n",
       "      <td>cube_2/2/2</td>\n",
       "      <td>[A, A, A, A, B, B, B, B, C, C, C, C, D, D, D, ...</td>\n",
       "      <td>[E, F, C, C, F, A, D, D, B, B, A, F, E, B, C, ...</td>\n",
       "      <td>0</td>\n",
       "    </tr>\n",
       "    <tr>\n",
       "      <th>3</th>\n",
       "      <td>cube_2/2/2</td>\n",
       "      <td>[A, A, A, A, B, B, B, B, C, C, C, C, D, D, D, ...</td>\n",
       "      <td>[A, C, E, C, F, D, E, D, A, A, F, A, B, D, B, ...</td>\n",
       "      <td>0</td>\n",
       "    </tr>\n",
       "    <tr>\n",
       "      <th>4</th>\n",
       "      <td>cube_2/2/2</td>\n",
       "      <td>[A, A, A, A, B, B, B, B, C, C, C, C, D, D, D, ...</td>\n",
       "      <td>[E, D, E, D, A, E, F, B, A, C, F, D, F, D, C, ...</td>\n",
       "      <td>0</td>\n",
       "    </tr>\n",
       "    <tr>\n",
       "      <th>...</th>\n",
       "      <td>...</td>\n",
       "      <td>...</td>\n",
       "      <td>...</td>\n",
       "      <td>...</td>\n",
       "    </tr>\n",
       "    <tr>\n",
       "      <th>279</th>\n",
       "      <td>cube_19/19/19</td>\n",
       "      <td>[A, A, A, A, A, A, A, A, A, A, A, A, A, A, A, ...</td>\n",
       "      <td>[B, D, F, E, E, F, C, C, E, F, C, E, F, C, A, ...</td>\n",
       "      <td>0</td>\n",
       "    </tr>\n",
       "    <tr>\n",
       "      <th>280</th>\n",
       "      <td>cube_19/19/19</td>\n",
       "      <td>[A, A, A, A, A, A, A, A, A, A, A, A, A, A, A, ...</td>\n",
       "      <td>[D, E, E, D, E, B, E, E, A, C, F, A, F, B, F, ...</td>\n",
       "      <td>0</td>\n",
       "    </tr>\n",
       "    <tr>\n",
       "      <th>281</th>\n",
       "      <td>cube_33/33/33</td>\n",
       "      <td>[A, A, A, A, A, A, A, A, A, A, A, A, A, A, A, ...</td>\n",
       "      <td>[B, F, C, B, E, F, A, F, F, C, B, A, F, A, D, ...</td>\n",
       "      <td>0</td>\n",
       "    </tr>\n",
       "    <tr>\n",
       "      <th>282</th>\n",
       "      <td>cube_33/33/33</td>\n",
       "      <td>[A, B, A, B, A, B, A, B, A, B, A, B, A, B, A, ...</td>\n",
       "      <td>[F, B, A, F, A, C, B, B, C, B, B, A, E, F, A, ...</td>\n",
       "      <td>0</td>\n",
       "    </tr>\n",
       "    <tr>\n",
       "      <th>283</th>\n",
       "      <td>cube_33/33/33</td>\n",
       "      <td>[N0, N1, N2, N3, N4, N5, N6, N7, N8, N9, N10, ...</td>\n",
       "      <td>[N1056, N4357, N3264, N3270, N924, N2183, N109...</td>\n",
       "      <td>0</td>\n",
       "    </tr>\n",
       "  </tbody>\n",
       "</table>\n",
       "<p>284 rows × 4 columns</p>\n",
       "</div>"
      ],
      "text/plain": [
       "       puzzle_type                                     solution_state  \\\n",
       "id                                                                      \n",
       "0       cube_2/2/2  [A, A, A, A, B, B, B, B, C, C, C, C, D, D, D, ...   \n",
       "1       cube_2/2/2  [A, A, A, A, B, B, B, B, C, C, C, C, D, D, D, ...   \n",
       "2       cube_2/2/2  [A, A, A, A, B, B, B, B, C, C, C, C, D, D, D, ...   \n",
       "3       cube_2/2/2  [A, A, A, A, B, B, B, B, C, C, C, C, D, D, D, ...   \n",
       "4       cube_2/2/2  [A, A, A, A, B, B, B, B, C, C, C, C, D, D, D, ...   \n",
       "..             ...                                                ...   \n",
       "279  cube_19/19/19  [A, A, A, A, A, A, A, A, A, A, A, A, A, A, A, ...   \n",
       "280  cube_19/19/19  [A, A, A, A, A, A, A, A, A, A, A, A, A, A, A, ...   \n",
       "281  cube_33/33/33  [A, A, A, A, A, A, A, A, A, A, A, A, A, A, A, ...   \n",
       "282  cube_33/33/33  [A, B, A, B, A, B, A, B, A, B, A, B, A, B, A, ...   \n",
       "283  cube_33/33/33  [N0, N1, N2, N3, N4, N5, N6, N7, N8, N9, N10, ...   \n",
       "\n",
       "                                         initial_state  num_wildcards  \n",
       "id                                                                     \n",
       "0    [D, E, D, A, E, B, A, B, C, A, C, A, D, C, D, ...              0  \n",
       "1    [D, E, C, B, B, E, F, A, F, D, B, F, F, E, B, ...              0  \n",
       "2    [E, F, C, C, F, A, D, D, B, B, A, F, E, B, C, ...              0  \n",
       "3    [A, C, E, C, F, D, E, D, A, A, F, A, B, D, B, ...              0  \n",
       "4    [E, D, E, D, A, E, F, B, A, C, F, D, F, D, C, ...              0  \n",
       "..                                                 ...            ...  \n",
       "279  [B, D, F, E, E, F, C, C, E, F, C, E, F, C, A, ...              0  \n",
       "280  [D, E, E, D, E, B, E, E, A, C, F, A, F, B, F, ...              0  \n",
       "281  [B, F, C, B, E, F, A, F, F, C, B, A, F, A, D, ...              0  \n",
       "282  [F, B, A, F, A, C, B, B, C, B, B, A, E, F, A, ...              0  \n",
       "283  [N1056, N4357, N3264, N3270, N924, N2183, N109...              0  \n",
       "\n",
       "[284 rows x 4 columns]"
      ]
     },
     "execution_count": 6,
     "metadata": {},
     "output_type": "execute_result"
    }
   ],
   "source": [
    "puzzles_cube"
   ]
  },
  {
   "cell_type": "code",
   "execution_count": null,
   "metadata": {},
   "outputs": [],
   "source": []
  },
  {
   "cell_type": "code",
   "execution_count": null,
   "metadata": {},
   "outputs": [],
   "source": []
  }
 ],
 "metadata": {
  "kernelspec": {
   "display_name": "Python 3",
   "language": "python",
   "name": "python3"
  },
  "language_info": {
   "codemirror_mode": {
    "name": "ipython",
    "version": 3
   },
   "file_extension": ".py",
   "mimetype": "text/x-python",
   "name": "python",
   "nbconvert_exporter": "python",
   "pygments_lexer": "ipython3",
   "version": "3.11.7"
  }
 },
 "nbformat": 4,
 "nbformat_minor": 2
}
