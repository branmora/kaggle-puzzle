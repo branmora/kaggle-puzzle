{
 "cells": [
  {
   "cell_type": "markdown",
   "metadata": {},
   "source": [
    "# Understanding the problem"
   ]
  },
  {
   "cell_type": "markdown",
   "metadata": {},
   "source": [
    "## Load the data"
   ]
  },
  {
   "cell_type": "code",
   "execution_count": 1,
   "metadata": {},
   "outputs": [],
   "source": [
    "#pip install opendatasets --upgrade\n",
    "#import opendatasets as od\n",
    "#od.download('https://www.kaggle.com/competitions/santa-2023/data')"
   ]
  },
  {
   "cell_type": "code",
   "execution_count": 2,
   "metadata": {},
   "outputs": [],
   "source": [
    "import pandas as pd"
   ]
  },
  {
   "cell_type": "code",
   "execution_count": 8,
   "metadata": {},
   "outputs": [],
   "source": [
    "sample_submission = pd.read_csv(\"santa-2023\\sample_submission.csv\")\n",
    "puzzles = pd.read_csv(\"santa-2023\\puzzles.csv\")\n",
    "puzzle_info = pd.read_csv(\"santa-2023\\puzzle_info.csv\")"
   ]
  },
  {
   "cell_type": "code",
   "execution_count": 14,
   "metadata": {},
   "outputs": [
    {
     "data": {
      "text/html": [
       "<div>\n",
       "<style scoped>\n",
       "    .dataframe tbody tr th:only-of-type {\n",
       "        vertical-align: middle;\n",
       "    }\n",
       "\n",
       "    .dataframe tbody tr th {\n",
       "        vertical-align: top;\n",
       "    }\n",
       "\n",
       "    .dataframe thead th {\n",
       "        text-align: right;\n",
       "    }\n",
       "</style>\n",
       "<table border=\"1\" class=\"dataframe\">\n",
       "  <thead>\n",
       "    <tr style=\"text-align: right;\">\n",
       "      <th></th>\n",
       "      <th>puzzle_type</th>\n",
       "      <th>allowed_moves</th>\n",
       "    </tr>\n",
       "  </thead>\n",
       "  <tbody>\n",
       "    <tr>\n",
       "      <th>0</th>\n",
       "      <td>cube_2/2/2</td>\n",
       "      <td>{'f0': [0, 1, 19, 17, 6, 4, 7, 5, 2, 9, 3, 11,...</td>\n",
       "    </tr>\n",
       "    <tr>\n",
       "      <th>1</th>\n",
       "      <td>cube_3/3/3</td>\n",
       "      <td>{'f0': [0, 1, 2, 3, 4, 5, 44, 41, 38, 15, 12, ...</td>\n",
       "    </tr>\n",
       "    <tr>\n",
       "      <th>2</th>\n",
       "      <td>cube_4/4/4</td>\n",
       "      <td>{'f0': [0, 1, 2, 3, 4, 5, 6, 7, 8, 9, 10, 11, ...</td>\n",
       "    </tr>\n",
       "    <tr>\n",
       "      <th>3</th>\n",
       "      <td>cube_5/5/5</td>\n",
       "      <td>{'f0': [0, 1, 2, 3, 4, 5, 6, 7, 8, 9, 10, 11, ...</td>\n",
       "    </tr>\n",
       "    <tr>\n",
       "      <th>4</th>\n",
       "      <td>cube_6/6/6</td>\n",
       "      <td>{'f0': [0, 1, 2, 3, 4, 5, 6, 7, 8, 9, 10, 11, ...</td>\n",
       "    </tr>\n",
       "    <tr>\n",
       "      <th>5</th>\n",
       "      <td>cube_7/7/7</td>\n",
       "      <td>{'f0': [0, 1, 2, 3, 4, 5, 6, 7, 8, 9, 10, 11, ...</td>\n",
       "    </tr>\n",
       "    <tr>\n",
       "      <th>6</th>\n",
       "      <td>cube_8/8/8</td>\n",
       "      <td>{'f0': [0, 1, 2, 3, 4, 5, 6, 7, 8, 9, 10, 11, ...</td>\n",
       "    </tr>\n",
       "    <tr>\n",
       "      <th>7</th>\n",
       "      <td>cube_9/9/9</td>\n",
       "      <td>{'f0': [0, 1, 2, 3, 4, 5, 6, 7, 8, 9, 10, 11, ...</td>\n",
       "    </tr>\n",
       "    <tr>\n",
       "      <th>8</th>\n",
       "      <td>cube_10/10/10</td>\n",
       "      <td>{'f0': [0, 1, 2, 3, 4, 5, 6, 7, 8, 9, 10, 11, ...</td>\n",
       "    </tr>\n",
       "    <tr>\n",
       "      <th>9</th>\n",
       "      <td>cube_19/19/19</td>\n",
       "      <td>{'f0': [0, 1, 2, 3, 4, 5, 6, 7, 8, 9, 10, 11, ...</td>\n",
       "    </tr>\n",
       "    <tr>\n",
       "      <th>10</th>\n",
       "      <td>cube_33/33/33</td>\n",
       "      <td>{'f0': [0, 1, 2, 3, 4, 5, 6, 7, 8, 9, 10, 11, ...</td>\n",
       "    </tr>\n",
       "    <tr>\n",
       "      <th>11</th>\n",
       "      <td>wreath_6/6</td>\n",
       "      <td>{'l': [1, 2, 3, 4, 5, 0, 6, 7, 8, 9], 'r': [6,...</td>\n",
       "    </tr>\n",
       "    <tr>\n",
       "      <th>12</th>\n",
       "      <td>wreath_7/7</td>\n",
       "      <td>{'l': [1, 2, 3, 4, 5, 6, 0, 7, 8, 9, 10, 11], ...</td>\n",
       "    </tr>\n",
       "    <tr>\n",
       "      <th>13</th>\n",
       "      <td>wreath_12/12</td>\n",
       "      <td>{'l': [1, 2, 3, 4, 5, 6, 7, 8, 9, 10, 11, 0, 1...</td>\n",
       "    </tr>\n",
       "    <tr>\n",
       "      <th>14</th>\n",
       "      <td>wreath_21/21</td>\n",
       "      <td>{'l': [1, 2, 3, 4, 5, 6, 7, 8, 9, 10, 11, 12, ...</td>\n",
       "    </tr>\n",
       "    <tr>\n",
       "      <th>15</th>\n",
       "      <td>wreath_33/33</td>\n",
       "      <td>{'l': [1, 2, 3, 4, 5, 6, 7, 8, 9, 10, 11, 12, ...</td>\n",
       "    </tr>\n",
       "    <tr>\n",
       "      <th>16</th>\n",
       "      <td>wreath_100/100</td>\n",
       "      <td>{'l': [1, 2, 3, 4, 5, 6, 7, 8, 9, 10, 11, 12, ...</td>\n",
       "    </tr>\n",
       "    <tr>\n",
       "      <th>17</th>\n",
       "      <td>globe_1/8</td>\n",
       "      <td>{'r0': [1, 2, 3, 4, 5, 6, 7, 8, 9, 10, 11, 12,...</td>\n",
       "    </tr>\n",
       "    <tr>\n",
       "      <th>18</th>\n",
       "      <td>globe_1/16</td>\n",
       "      <td>{'r0': [1, 2, 3, 4, 5, 6, 7, 8, 9, 10, 11, 12,...</td>\n",
       "    </tr>\n",
       "    <tr>\n",
       "      <th>19</th>\n",
       "      <td>globe_2/6</td>\n",
       "      <td>{'r0': [1, 2, 3, 4, 5, 6, 7, 8, 9, 10, 11, 0, ...</td>\n",
       "    </tr>\n",
       "    <tr>\n",
       "      <th>20</th>\n",
       "      <td>globe_3/4</td>\n",
       "      <td>{'r0': [1, 2, 3, 4, 5, 6, 7, 0, 8, 9, 10, 11, ...</td>\n",
       "    </tr>\n",
       "    <tr>\n",
       "      <th>21</th>\n",
       "      <td>globe_6/4</td>\n",
       "      <td>{'r0': [1, 2, 3, 4, 5, 6, 7, 0, 8, 9, 10, 11, ...</td>\n",
       "    </tr>\n",
       "    <tr>\n",
       "      <th>22</th>\n",
       "      <td>globe_6/8</td>\n",
       "      <td>{'r0': [1, 2, 3, 4, 5, 6, 7, 8, 9, 10, 11, 12,...</td>\n",
       "    </tr>\n",
       "    <tr>\n",
       "      <th>23</th>\n",
       "      <td>globe_6/10</td>\n",
       "      <td>{'r0': [1, 2, 3, 4, 5, 6, 7, 8, 9, 10, 11, 12,...</td>\n",
       "    </tr>\n",
       "    <tr>\n",
       "      <th>24</th>\n",
       "      <td>globe_3/33</td>\n",
       "      <td>{'r0': [1, 2, 3, 4, 5, 6, 7, 8, 9, 10, 11, 12,...</td>\n",
       "    </tr>\n",
       "    <tr>\n",
       "      <th>25</th>\n",
       "      <td>globe_8/25</td>\n",
       "      <td>{'r0': [1, 2, 3, 4, 5, 6, 7, 8, 9, 10, 11, 12,...</td>\n",
       "    </tr>\n",
       "  </tbody>\n",
       "</table>\n",
       "</div>"
      ],
      "text/plain": [
       "       puzzle_type                                      allowed_moves\n",
       "0       cube_2/2/2  {'f0': [0, 1, 19, 17, 6, 4, 7, 5, 2, 9, 3, 11,...\n",
       "1       cube_3/3/3  {'f0': [0, 1, 2, 3, 4, 5, 44, 41, 38, 15, 12, ...\n",
       "2       cube_4/4/4  {'f0': [0, 1, 2, 3, 4, 5, 6, 7, 8, 9, 10, 11, ...\n",
       "3       cube_5/5/5  {'f0': [0, 1, 2, 3, 4, 5, 6, 7, 8, 9, 10, 11, ...\n",
       "4       cube_6/6/6  {'f0': [0, 1, 2, 3, 4, 5, 6, 7, 8, 9, 10, 11, ...\n",
       "5       cube_7/7/7  {'f0': [0, 1, 2, 3, 4, 5, 6, 7, 8, 9, 10, 11, ...\n",
       "6       cube_8/8/8  {'f0': [0, 1, 2, 3, 4, 5, 6, 7, 8, 9, 10, 11, ...\n",
       "7       cube_9/9/9  {'f0': [0, 1, 2, 3, 4, 5, 6, 7, 8, 9, 10, 11, ...\n",
       "8    cube_10/10/10  {'f0': [0, 1, 2, 3, 4, 5, 6, 7, 8, 9, 10, 11, ...\n",
       "9    cube_19/19/19  {'f0': [0, 1, 2, 3, 4, 5, 6, 7, 8, 9, 10, 11, ...\n",
       "10   cube_33/33/33  {'f0': [0, 1, 2, 3, 4, 5, 6, 7, 8, 9, 10, 11, ...\n",
       "11      wreath_6/6  {'l': [1, 2, 3, 4, 5, 0, 6, 7, 8, 9], 'r': [6,...\n",
       "12      wreath_7/7  {'l': [1, 2, 3, 4, 5, 6, 0, 7, 8, 9, 10, 11], ...\n",
       "13    wreath_12/12  {'l': [1, 2, 3, 4, 5, 6, 7, 8, 9, 10, 11, 0, 1...\n",
       "14    wreath_21/21  {'l': [1, 2, 3, 4, 5, 6, 7, 8, 9, 10, 11, 12, ...\n",
       "15    wreath_33/33  {'l': [1, 2, 3, 4, 5, 6, 7, 8, 9, 10, 11, 12, ...\n",
       "16  wreath_100/100  {'l': [1, 2, 3, 4, 5, 6, 7, 8, 9, 10, 11, 12, ...\n",
       "17       globe_1/8  {'r0': [1, 2, 3, 4, 5, 6, 7, 8, 9, 10, 11, 12,...\n",
       "18      globe_1/16  {'r0': [1, 2, 3, 4, 5, 6, 7, 8, 9, 10, 11, 12,...\n",
       "19       globe_2/6  {'r0': [1, 2, 3, 4, 5, 6, 7, 8, 9, 10, 11, 0, ...\n",
       "20       globe_3/4  {'r0': [1, 2, 3, 4, 5, 6, 7, 0, 8, 9, 10, 11, ...\n",
       "21       globe_6/4  {'r0': [1, 2, 3, 4, 5, 6, 7, 0, 8, 9, 10, 11, ...\n",
       "22       globe_6/8  {'r0': [1, 2, 3, 4, 5, 6, 7, 8, 9, 10, 11, 12,...\n",
       "23      globe_6/10  {'r0': [1, 2, 3, 4, 5, 6, 7, 8, 9, 10, 11, 12,...\n",
       "24      globe_3/33  {'r0': [1, 2, 3, 4, 5, 6, 7, 8, 9, 10, 11, 12,...\n",
       "25      globe_8/25  {'r0': [1, 2, 3, 4, 5, 6, 7, 8, 9, 10, 11, 12,..."
      ]
     },
     "execution_count": 14,
     "metadata": {},
     "output_type": "execute_result"
    }
   ],
   "source": [
    "puzzle_info"
   ]
  },
  {
   "cell_type": "code",
   "execution_count": 13,
   "metadata": {},
   "outputs": [
    {
     "data": {
      "text/plain": [
       "\"{'f0': [0, 1, 19, 17, 6, 4, 7, 5, 2, 9, 3, 11, 12, 13, 14, 15, 16, 20, 18, 21, 10, 8, 22, 23], 'f1': [18, 16, 2, 3, 4, 5, 6, 7, 8, 0, 10, 1, 13, 15, 12, 14, 22, 17, 23, 19, 20, 21, 11, 9], 'r0': [0, 5, 2, 7, 4, 21, 6, 23, 10, 8, 11, 9, 3, 13, 1, 15, 16, 17, 18, 19, 20, 14, 22, 12], 'r1': [4, 1, 6, 3, 20, 5, 22, 7, 8, 9, 10, 11, 12, 2, 14, 0, 17, 19, 16, 18, 15, 21, 13, 23], 'd0': [0, 1, 2, 3, 4, 5, 18, 19, 8, 9, 6, 7, 12, 13, 10, 11, 16, 17, 14, 15, 22, 20, 23, 21], 'd1': [1, 3, 0, 2, 16, 17, 6, 7, 4, 5, 10, 11, 8, 9, 14, 15, 12, 13, 18, 19, 20, 21, 22, 23]}\""
      ]
     },
     "execution_count": 13,
     "metadata": {},
     "output_type": "execute_result"
    }
   ],
   "source": [
    "puzzle_info.iloc[0,1]"
   ]
  }
 ],
 "metadata": {
  "kernelspec": {
   "display_name": "Python 3",
   "language": "python",
   "name": "python3"
  },
  "language_info": {
   "codemirror_mode": {
    "name": "ipython",
    "version": 3
   },
   "file_extension": ".py",
   "mimetype": "text/x-python",
   "name": "python",
   "nbconvert_exporter": "python",
   "pygments_lexer": "ipython3",
   "version": "3.11.7"
  }
 },
 "nbformat": 4,
 "nbformat_minor": 2
}
